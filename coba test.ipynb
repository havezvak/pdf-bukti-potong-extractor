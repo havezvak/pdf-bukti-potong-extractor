{
 "cells": [
  {
   "cell_type": "code",
   "execution_count": 2,
   "metadata": {},
   "outputs": [
    {
     "name": "stdout",
     "output_type": "stream",
     "text": [
      "Defaulting to user installation because normal site-packages is not writeable\n",
      "Collecting openai\n",
      "  Downloading openai-1.3.9-py3-none-any.whl (221 kB)\n",
      "\u001b[K     |████████████████████████████████| 221 kB 66 kB/s eta 0:00:011\n",
      "\u001b[?25hCollecting sniffio\n",
      "  Downloading sniffio-1.3.0-py3-none-any.whl (10 kB)\n",
      "Collecting httpx<1,>=0.23.0\n",
      "  Downloading httpx-0.25.2-py3-none-any.whl (74 kB)\n",
      "\u001b[K     |████████████████████████████████| 74 kB 120 kB/s eta 0:00:01\n",
      "\u001b[?25hRequirement already satisfied: typing-extensions<5,>=4.5 in /Users/havezalkautsar/Library/Python/3.9/lib/python/site-packages (from openai) (4.9.0)\n",
      "Collecting tqdm>4\n",
      "  Downloading tqdm-4.66.1-py3-none-any.whl (78 kB)\n",
      "\u001b[K     |████████████████████████████████| 78 kB 291 kB/s eta 0:00:01\n",
      "\u001b[?25hCollecting anyio<5,>=3.5.0\n",
      "  Downloading anyio-4.1.0-py3-none-any.whl (83 kB)\n",
      "\u001b[K     |████████████████████████████████| 83 kB 370 kB/s eta 0:00:01\n",
      "\u001b[?25hCollecting distro<2,>=1.7.0\n",
      "  Downloading distro-1.8.0-py3-none-any.whl (20 kB)\n",
      "Collecting pydantic<3,>=1.9.0\n",
      "  Downloading pydantic-2.5.2-py3-none-any.whl (381 kB)\n",
      "\u001b[K     |████████████████████████████████| 381 kB 459 kB/s eta 0:00:01\n",
      "\u001b[?25hCollecting idna>=2.8\n",
      "  Downloading idna-3.6-py3-none-any.whl (61 kB)\n",
      "\u001b[K     |████████████████████████████████| 61 kB 343 kB/s eta 0:00:01\n",
      "\u001b[?25hRequirement already satisfied: exceptiongroup>=1.0.2 in /Users/havezalkautsar/Library/Python/3.9/lib/python/site-packages (from anyio<5,>=3.5.0->openai) (1.2.0)\n",
      "Collecting certifi\n",
      "  Downloading certifi-2023.11.17-py3-none-any.whl (162 kB)\n",
      "\u001b[K     |████████████████████████████████| 162 kB 883 kB/s eta 0:00:01\n",
      "\u001b[?25hCollecting httpcore==1.*\n",
      "  Downloading httpcore-1.0.2-py3-none-any.whl (76 kB)\n",
      "\u001b[K     |████████████████████████████████| 76 kB 1.1 MB/s eta 0:00:01\n",
      "\u001b[?25hCollecting h11<0.15,>=0.13\n",
      "  Downloading h11-0.14.0-py3-none-any.whl (58 kB)\n",
      "\u001b[K     |████████████████████████████████| 58 kB 1.3 MB/s eta 0:00:01\n",
      "\u001b[?25hCollecting pydantic-core==2.14.5\n",
      "  Downloading pydantic_core-2.14.5-cp39-cp39-macosx_11_0_arm64.whl (1.7 MB)\n",
      "\u001b[K     |████████████████████████████████| 1.7 MB 717 kB/s eta 0:00:01\n",
      "\u001b[?25hCollecting annotated-types>=0.4.0\n",
      "  Downloading annotated_types-0.6.0-py3-none-any.whl (12 kB)\n",
      "Installing collected packages: sniffio, idna, h11, certifi, pydantic-core, httpcore, anyio, annotated-types, tqdm, pydantic, httpx, distro, openai\n",
      "Successfully installed annotated-types-0.6.0 anyio-4.1.0 certifi-2023.11.17 distro-1.8.0 h11-0.14.0 httpcore-1.0.2 httpx-0.25.2 idna-3.6 openai-1.3.9 pydantic-2.5.2 pydantic-core-2.14.5 sniffio-1.3.0 tqdm-4.66.1\n",
      "\u001b[33mWARNING: You are using pip version 21.2.4; however, version 23.3.1 is available.\n",
      "You should consider upgrading via the '/Library/Developer/CommandLineTools/usr/bin/python3 -m pip install --upgrade pip' command.\u001b[0m\n",
      "Note: you may need to restart the kernel to use updated packages.\n"
     ]
    }
   ],
   "source": [
    "pip install openai"
   ]
  },
  {
   "cell_type": "code",
   "execution_count": 3,
   "metadata": {},
   "outputs": [
    {
     "name": "stdout",
     "output_type": "stream",
     "text": [
      "Untuk meningkatkan efektivitas dan efisiensi pemasaran produk tabungan, Anda dapat mengikuti beberapa langkah berikut:\n",
      "\n",
      "1. Membangun strategi pemasaran yang jelas: Tentukan tujuan pemasaran produk tabungan, identifikasi target audiens, dan tentukan pesan kunci yang ingin disampaikan kepada mereka. Buat pula rencana taktik yang melibatkan berbagai saluran pemasaran, seperti iklan, media sosial, brosur, kampanye email, dan lainnya.\n",
      "\n",
      "2. Meningkatkan citra merek: Pastikan merek Anda memiliki citra yang kuat dan positif di mata pelanggan. Dengan membangun citra yang baik, pelanggan akan lebih percaya dan tertarik untuk menggunakan produk tabungan yang Anda tawarkan.\n",
      "\n",
      "3. Memperluas jaringan distribusi: Tingkatkan kehadiran produk tabungan Anda dengan memperluas jaringan distribusi. Buka cabang-cabang baru di lokasi strategis, jalin kemitraan dengan agen penjualan atau perusahaan lain, dan perluas layanan perbankan online.\n",
      "\n",
      "4. Melakukan segmentasi pasar: Lakukan segmentasi pasar untuk memahami kebutuhan dan preferensi pelanggan potensial. Dengan memahami demografi, perilaku, dan karakteristik pelanggan, Anda dapat menyesuaikan strategi pemasaran agar lebih efektif dan efisien.\n",
      "\n",
      "5. Membangun hubungan dengan pelanggan: Tingkatkan komunikasi dengan pelanggan melalui program loyalitas, konten berkualitas, dan promosi khusus. Jaga hubungan yang baik dengan pelanggan saat ini dan cari cara agar mereka merekomendasikan produk tabungan Anda kepada orang lain.\n",
      "\n",
      "6. Analisis data dan pengukuran: Gunakan data analitik untuk mengukur efektivitas kampanye pemasaran Anda. Tinjau metrik seperti angka konversi, tingkat keterlibatan pelanggan, dan penjualan untuk memberikan umpan balik dan melakukan perbaikan jika diperlukan.\n",
      "\n",
      "7. Berinovasi: Tetap up-to-date dengan tren dan teknologi terbaru dalam industri perbankan. Selalu cari cara baru untuk meningkatkan produk dan layanan tabungan yang Anda tawarkan agar tetap relevan dan menarik bagi pelanggan.\n",
      "\n",
      "8. Memperhatikan pelatihan dan pengembangan staf: Dukung tim pemasaran Anda dengan pelatihan dan pengembangan yang sesuai. Pastikan mereka memiliki pengetahuan yang baik tentang produk tabungan Anda, dan berikan mereka keterampilan dan alat yang diperlukan untuk berhasil dalam mengiklankan dan memasarkan produk tersebut.\n",
      "\n",
      "Dengan mengikuti langkah-langkah ini, Anda dapat meningkatkan efektivitas dan efisiensi pemasaran produk tabungan Anda, dan pada akhirnya, menghasilkan hasil yang lebih baik untuk bank Anda.\n"
     ]
    }
   ],
   "source": [
    "import os\n",
    "from openai import AzureOpenAI\n",
    "\n",
    "client = AzureOpenAI(\n",
    "  azure_endpoint = \"https://ddb-bri-aoai.openai.azure.com/\",\n",
    "  api_key=\"a33c9dbe547a441fb64c266fe0a05b54\",\n",
    "  api_version=\"2023-05-15\"\n",
    ")\n",
    "\n",
    "response = client.chat.completions.create(\n",
    "    model=\"sabrinav1\", # model = \"deployment_name\".\n",
    "    messages=[\n",
    "        {\"role\": \"system\", \"content\": \"Kamu adalah direktur suatu bank yang akan menjawab semua pertanyaan tentang perbankan\"},\n",
    "        {\"role\": \"user\", \"content\": \"bagaimana cara meningkatkan efektivitas dan efisiensi pemasaran produk tabungan?\"},\n",
    "    ]\n",
    ")\n",
    "\n",
    "print(response.choices[0].message.content)"
   ]
  },
  {
   "cell_type": "code",
   "execution_count": null,
   "metadata": {},
   "outputs": [],
   "source": []
  }
 ],
 "metadata": {
  "kernelspec": {
   "display_name": "Python 3",
   "language": "python",
   "name": "python3"
  },
  "language_info": {
   "codemirror_mode": {
    "name": "ipython",
    "version": 3
   },
   "file_extension": ".py",
   "mimetype": "text/x-python",
   "name": "python",
   "nbconvert_exporter": "python",
   "pygments_lexer": "ipython3",
   "version": "3.9.6"
  }
 },
 "nbformat": 4,
 "nbformat_minor": 2
}
